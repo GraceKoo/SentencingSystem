{
 "cells": [
  {
   "cell_type": "code",
   "execution_count": 9,
   "metadata": {},
   "outputs": [
    {
     "name": "stdout",
     "output_type": "stream",
     "text": [
      "他/来到/了/网易/杭研/大厦\n"
     ]
    }
   ],
   "source": [
    "import jieba\n",
    "import jieba\n",
    "\n",
    "words=jieba.cut(\"他来到了网易杭研大厦\");\n",
    "print (\"/\".join(words))"
   ]
  },
  {
   "cell_type": "code",
   "execution_count": 1,
   "metadata": {},
   "outputs": [
    {
     "name": "stderr",
     "output_type": "stream",
     "text": [
      "Building prefix dict from the default dictionary ...\n",
      "Loading model from cache /var/folders/3_/56rszcg92xldlj__b2xych540000gn/T/jieba.cache\n",
      "Loading model cost 0.873 seconds.\n",
      "Prefix dict has been built succesfully.\n"
     ]
    },
    {
     "name": "stdout",
     "output_type": "stream",
     "text": [
      "他/来到/了/网易/杭研大厦\n",
      "<class 'generator'>\n"
     ]
    }
   ],
   "source": [
    "import jieba\n",
    "\n",
    "jieba.load_userdict(\"dict.txt\")\n",
    "words = jieba.cut(\"他来到了网易杭研大厦\")\n",
    "print(\"/\".join(words))\n",
    "print(type(words))"
   ]
  },
  {
   "cell_type": "code",
   "execution_count": 2,
   "metadata": {},
   "outputs": [
    {
     "name": "stdout",
     "output_type": "stream",
     "text": [
      "我们/中出/了/一个/叛徒\n"
     ]
    }
   ],
   "source": [
    "import jieba\n",
    "words =jieba.cut(\"我们中出了一个叛徒\",HMM=False)\n",
    "jieba.suggest_freq(('中出'),True)\n",
    "print ('/'.join(words))"
   ]
  },
  {
   "cell_type": "code",
   "execution_count": 44,
   "metadata": {
    "collapsed": true
   },
   "outputs": [],
   "source": [
    "#单个文件筛选，成功\n",
    "import os\n",
    "import json\n",
    "import lxml.etree\n",
    "import xmltodict\n",
    "import shutil\n",
    "\n",
    "file1 = \"/users/gracekoo/University/Project/Data/ProjectDocument/t1/test.xml\"      \n",
    "file2 = \"/users/gracekoo/University/Project/Data/ProjectDocument/t2/test2.xml\" \n",
    "\n",
    "fr = open(file1)\n",
    "text = xmltodict.parse(fr.read().encode('utf-8'))\n",
    "s = json.loads(json.dumps(text))\n",
    "Result = s['writ']['QW']['PJJG']['XSPJJGFZ']['BSPJJG']['ZXPF']['ZX']['ZXXQ']['@value']\n",
    "if Result[1] == \"年\" and (Result[0] == \"一\" or Result[0] == \"四\" or Result[0] == \"五\" or Result[0] == \"六\" or Result[0] == \"七\" and len(Result) == 2 ):\n",
    "    shutil.copyfile(file1,file2)\n",
    "    \n",
    "    "
   ]
  },
  {
   "cell_type": "code",
   "execution_count": 67,
   "metadata": {
    "collapsed": true
   },
   "outputs": [],
   "source": [
    "#文件夹筛选，筛选出三年到七年的xml文件，成功\n",
    "import os\n",
    "import json\n",
    "import lxml.etree\n",
    "import xmltodict\n",
    "import shutil\n",
    "\n",
    "folder_read = \"/users/gracekoo/University/Project/Data/ProjectDocument/t1/\"      \n",
    "folder_write = \"/users/gracekoo/University/Project/Data/ProjectDocument/t2/\" \n",
    "\n",
    "files = os.listdir(folder_read)\n",
    "\n",
    "for file in files:\n",
    "    fr = open(folder_read + file)\n",
    "    text = xmltodict.parse(fr.read().encode('utf-8'))\n",
    "    s = json.loads(json.dumps(text))\n",
    "    flag = False\n",
    "    try:\n",
    "        Result = s['writ']['QW']['PJJG']['XSPJJGFZ']['BSPJJG']['ZXPF']['ZX']['ZXXQ']['@value']\n",
    "        if Result[1] == \"年\" and (Result[0] == \"三\" or Result[0] == \"四\" or Result[0] == \"五\" or Result[0] == \"六\" or Result[0] == \"七\" and len(Result) == 2 ):\n",
    "            flag = True\n",
    "    except:\n",
    "        continue\n",
    "\n",
    "    if flag == True:\n",
    "        shutil.copyfile(folder_read + file,folder_write + file)"
   ]
  },
  {
   "cell_type": "code",
   "execution_count": null,
   "metadata": {
    "collapsed": true
   },
   "outputs": [],
   "source": [
    "#输出文件，成功\n",
    "name =['a1','a2','a3']\n",
    "seq=['seq11111','seqs22222','seq33333']\n",
    "f = open(\"1.txt\", \"w+\")\n",
    "f.write(\"name\\tseq\\n\")\n",
    "for i in range(0, len(name)):\n",
    "    f.write(name[i] + \"\\t\" + seq[i] + \"\\n\")\n",
    "f.close()\n",
    "\n",
    "# name  seq\n",
    "# a1    seq11111\n",
    "# a2    seqs22222\n",
    "# a3    seq33333\n"
   ]
  },
  {
   "cell_type": "code",
   "execution_count": 7,
   "metadata": {
    "collapsed": true
   },
   "outputs": [],
   "source": [
    "# 元素筛选,主刑,成功\n",
    "import os\n",
    "import json\n",
    "import lxml.etree\n",
    "import xmltodict\n",
    "import shutil\n",
    "\n",
    "folder_read = \"/users/gracekoo/University/Project/Data/ProjectDocument/t1/\"      \n",
    "f_write = \"/users/gracekoo/University/Project/Data/ProjectDocument/t2/Extract.txt\" \n",
    "\n",
    "files_read = os.listdir(folder_read)\n",
    "\n",
    "fw = open(f_write,\"w+\")\n",
    "fw.write(\"主刑\\t性别\\n\")\n",
    "\n",
    "for file in files_read:\n",
    "    fr = open(folder_read + file)\n",
    "    \n",
    "    text = xmltodict.parse(fr.read().encode('utf-8'))\n",
    "    s = json.loads(json.dumps(text))\n",
    "    flag = False\n",
    "    try:\n",
    "        Result_MainS = s['writ']['QW']['PJJG']['XSPJJGFZ']['BSPJJG']['ZXPF']['ZX']['ZXXQ']['@value']\n",
    "        \n",
    "        fw.write(Result_MainS + \"\\n\")\n",
    "        fr.close()\n",
    "        \n",
    "    except:\n",
    "        continue\n",
    "\n",
    "fw.close()"
   ]
  },
  {
   "cell_type": "code",
   "execution_count": 21,
   "metadata": {
    "scrolled": true
   },
   "outputs": [
    {
     "name": "stdout",
     "output_type": "stream",
     "text": [
      "/users/gracekoo/University/Project/Data/ProjectDocument/t1/2895.xml\n",
      "1\n",
      "被告人如实供述罪行\n",
      "否\n",
      "0\n",
      "态度好\n",
      "谅解\n",
      "补救\n",
      "不积极\n",
      "三年\n",
      "law_list <class 'list'>\n",
      "\n",
      "/users/gracekoo/University/Project/Data/ProjectDocument/t1/103.xml\n",
      "1\n",
      "自首\n",
      "否\n",
      "bhr_list [{'@nameCN': '被害人', 'SFSW': {'@nameCN': '是否死亡', '@value': '是'}, 'BHRXM': {'@nameCN': '被害人姓名', '@value': '马某某'}}, {'@nameCN': '被害人', 'SFSW': {'@nameCN': '是否死亡', '@value': '否'}, 'BHRXM': {'@nameCN': '被害人姓名', '@value': '马某戊'}}, {'@nameCN': '被害人', 'SFSW': {'@nameCN': '是否死亡', '@value': '是'}, 'BHRXM': {'@nameCN': '被害人姓名', '@value': '马某乙'}}] <class 'list'>\n",
      "2\n",
      "不知\n",
      "不知\n",
      "不知\n",
      "不积极\n",
      "四年\n",
      "law_list <class 'list'>\n",
      "\n",
      "/users/gracekoo/University/Project/Data/ProjectDocument/t1/35.xml\n",
      "1\n",
      "否\n",
      "是\n",
      "bhr_list {'@nameCN': '被害人', 'SFSW': {'@nameCN': '是否死亡', '@value': '否'}, 'BHRXM': {'@nameCN': '被害人姓名', '@value': '杨某某'}} <class 'dict'>\n",
      "0\n",
      "态度好\n",
      "谅解\n",
      "补救\n",
      "积极\n",
      "三年\n",
      "law_list <class 'list'>\n",
      "\n",
      "/users/gracekoo/University/Project/Data/ProjectDocument/t1/test.xml\n",
      "1\n",
      "自首\n",
      "否\n",
      "bhr_list {'@nameCN': '被害人', 'BHRXB': {'@nameCN': '被害人性别', '@value': '男'}, 'SFSW': {'@nameCN': '是否死亡', '@value': '是'}, 'BHRXM': {'@nameCN': '被害人姓名', '@value': '夏某己'}} <class 'dict'>\n",
      "1\n",
      "不知\n",
      "不知\n",
      "补救\n",
      "不积极\n",
      "一年六个月\n",
      "law_list <class 'list'>\n",
      "\n",
      "/users/gracekoo/University/Project/Data/ProjectDocument/t1/246.xml\n",
      "1\n",
      "自首\n",
      "否\n",
      "bhr_list {'@nameCN': '被害人', 'BHRXB': {'@nameCN': '被害人性别', '@value': '女'}, 'SFSW': {'@nameCN': '是否死亡', '@value': '否'}, 'BHRXM': {'@nameCN': '被害人姓名', '@value': '黄某'}} <class 'dict'>\n",
      "0\n",
      "不知\n",
      "谅解\n",
      "补救\n",
      "积极\n",
      "三年\n",
      "law_list <class 'list'>\n",
      "\n"
     ]
    }
   ],
   "source": [
    "# 元素筛选--成功--共9条筛选\n",
    "import os\n",
    "import json\n",
    "import shutil\n",
    "import xmltodict\n",
    "import lxml.etree\n",
    "\n",
    "folder_read = \"/users/gracekoo/University/Project/Data/ProjectDocument/t1/\"      \n",
    "f_write = \"/users/gracekoo/University/Project/Data/ProjectDocument/t2/Extract.txt\" \n",
    "\n",
    "files_read = os.listdir(folder_read)\n",
    "\n",
    "fw = open(f_write,\"w+\")\n",
    "fw.write(\"自首\\t无证驾驶\\t死亡人数\\t认罪态度\\t是否谅解\\t事故处理态度\\t积极赔偿\\t主刑\\t法条\\n\")\n",
    "\n",
    "for file in files_read:\n",
    "    print(folder_read + file)\n",
    "    fr = open(folder_read + file)\n",
    "    \n",
    "    text = xmltodict.parse(fr.read().encode('utf-8'))\n",
    "    s = json.loads(json.dumps(text))\n",
    "    print(len(s))\n",
    "    flag = False\n",
    "    try:\n",
    "        #Surrender\n",
    "        lxqj = s['writ']['QW']['CPFXGC']['LXQJ']\n",
    "        if 'FDLXQJ' in lxqj:\n",
    "            Surrender = lxqj['FDLXQJ']['QJ']['@value']\n",
    "        else:\n",
    "            Surrender = \"否\"\n",
    "        \n",
    "        print(Surrender)\n",
    "        \n",
    "        #NoLicense\n",
    "        if \"无证驾驶\" in s['writ']['QW']['CPFXGC']['@value']:\n",
    "            NoLicense = \"是\"\n",
    "        else:\n",
    "            NoLicense = \"否\"\n",
    "        \n",
    "        print(NoLicense)\n",
    "        \n",
    "        #Dies\n",
    "        dies = 0\n",
    "        if 'BHR' in s['writ']['QW']['AJJBQK']:\n",
    "            bhr_list = s['writ']['QW']['AJJBQK']['BHR']\n",
    "            print(\"bhr_list\", bhr_list, type(bhr_list))\n",
    "            if type(bhr_list) is list:\n",
    "                for bhr in bhr_list:\n",
    "                    if bhr['SFSW']['@value'] == \"是\":\n",
    "                        dies += 1\n",
    "            elif type(bhr_list) is dict:\n",
    "                if bhr_list['SFSW']['@value'] == \"是\":\n",
    "                    dies += 1\n",
    "        print(dies)\n",
    "        \n",
    "        \n",
    "        #SAttitude,Excuse,AAttitude\n",
    "        SAttitude = \"不知\"\n",
    "        Excuse = \"不知\"\n",
    "        AAttitude = \"不知\"\n",
    "        if 'ZDLXQJ' in s['writ']['QW']['CPFXGC']['LXQJ']:\n",
    "            zdlxqj_type = s['writ']['QW']['CPFXGC']['LXQJ']['ZDLXQJ']\n",
    "            if type(zdlxqj_type) is list:\n",
    "                for zdlxqj in zdlxqj_type:\n",
    "                    if zdlxqj['QJ']['@value'] == \"认罪态度好\":\n",
    "                        SAttitude = \"态度好\"\n",
    "                    elif \"谅解\" in zdlxqj['QJ']['@value']:\n",
    "                        Excuse = \"谅解\"\n",
    "                    elif \"采取补救措施\" in zdlxqj['QJ']['@value']:\n",
    "                        AAttitude = \"补救\"\n",
    "                        break\n",
    "            \n",
    "            elif type(zdlxqj_type) is dict:\n",
    "                if zdlxqj_type['QJ']['@value'] == \"认罪态度好\":\n",
    "                    SAttitude = \"态度好\"\n",
    "                elif \"谅解\" in zdlxqj['QJ']['@value']:\n",
    "                    Excuse = \"谅解\"\n",
    "                elif \"采取补救措施\" in zdlxqj['QJ']['@value']:\n",
    "                        AAttitude = \"补救\"\n",
    "        print(SAttitude)\n",
    "        print(Excuse)\n",
    "        print(AAttitude)\n",
    "        \n",
    "        #PCompensate\n",
    "        if \"积极赔偿\" in s['writ']['QW']['@value']:\n",
    "            PCompensate = \"积极\"\n",
    "        else:\n",
    "            PCompensate = \"不积极\"\n",
    "        \n",
    "        print(PCompensate)\n",
    "        \n",
    "        #Result_MainS\n",
    "        Result_MainS = s['writ']['QW']['PJJG']['XSPJJGFZ']['BSPJJG']['ZXPF']['ZX']['ZXXQ']['@value']\n",
    "        print(Result_MainS)\n",
    "        \n",
    "        #Law\n",
    "        Law_list = \"\"\n",
    "        if 'CUS_FLFT_RY' in s['writ']['QW']['CPFXGC']['CUS_FLFT_FZ_RY']:\n",
    "            law_type = s['writ']['QW']['CPFXGC']['CUS_FLFT_FZ_RY']['CUS_FLFT_RY']\n",
    "            print(\"law_list\",type(law_type))\n",
    "            if type(law_type) is list:\n",
    "                for law in law_type:\n",
    "                    Law_list += law['@value'] + \"\\n\"\n",
    "                      \n",
    "            elif type(law_type) is dict:\n",
    "                Law_list += law['@value']\n",
    "        \n",
    "       \n",
    "        \n",
    "        fw.write(Surrender +\"\\t\"+ NoLicense  +\"\\t\"+ str(dies) +\"\\t\"+ SAttitude +\"\\t\" + \n",
    "                 Excuse +\"\\t\"+ AAttitude +\"\\t\"+ PCompensate +\"\\t\"+ Result_MainS +\"\\t\"+ Law_list + \"\\n\")\n",
    "        fr.close()\n",
    "        \n",
    "        print()\n",
    "        \n",
    "    except e:\n",
    "        print(e)\n",
    "        continue\n",
    "        \n",
    "fw.close()"
   ]
  },
  {
   "cell_type": "code",
   "execution_count": null,
   "metadata": {
    "collapsed": true
   },
   "outputs": [],
   "source": []
  }
 ],
 "metadata": {
  "kernelspec": {
   "display_name": "Python 3",
   "language": "python",
   "name": "python3"
  },
  "language_info": {
   "codemirror_mode": {
    "name": "ipython",
    "version": 3
   },
   "file_extension": ".py",
   "mimetype": "text/x-python",
   "name": "python",
   "nbconvert_exporter": "python",
   "pygments_lexer": "ipython3",
   "version": "3.6.2"
  }
 },
 "nbformat": 4,
 "nbformat_minor": 2
}
